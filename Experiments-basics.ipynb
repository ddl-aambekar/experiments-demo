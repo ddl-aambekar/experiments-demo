{
 "cells": [
  {
   "cell_type": "markdown",
   "id": "bddb64b4-409a-4d0a-bef3-3543de1a1a1e",
   "metadata": {
    "tags": []
   },
   "source": [
    "# Experiments Manager Basics #"
   ]
  },
  {
   "cell_type": "markdown",
   "id": "29dfd867-ebcd-45be-b9cb-0d5c258af347",
   "metadata": {
    "tags": []
   },
   "source": [
    "### 1. Workspaces and jobs communicate with MLFlow via the MLFLOW_TRACKING_URI ###"
   ]
  },
  {
   "cell_type": "code",
   "execution_count": 12,
   "id": "ca4d9ca4-7f83-4344-90e8-ca9c860519b8",
   "metadata": {
    "tags": []
   },
   "outputs": [
    {
     "name": "stdout",
     "output_type": "stream",
     "text": [
      "MLFLOW_TRACKING_URI: http://localhost:80\n"
     ]
    }
   ],
   "source": [
    "import os\n",
    "print('MLFLOW_TRACKING_URI: ' + os.environ['MLFLOW_TRACKING_URI'])"
   ]
  },
  {
   "cell_type": "markdown",
   "id": "ae593192-f2e0-4184-b48d-cd8d9585acc4",
   "metadata": {},
   "source": [
    "## 2. Set a new experiment to start logging metrics ##"
   ]
  },
  {
   "cell_type": "code",
   "execution_count": 13,
   "id": "dc33d159-b816-4a48-a69a-a9d80227e135",
   "metadata": {
    "tags": []
   },
   "outputs": [
    {
     "name": "stderr",
     "output_type": "stream",
     "text": [
      "2023/09/01 17:53:24 INFO mlflow.tracking.fluent: Experiment with name 'My-First-Domino-Experiment-integration-test' does not exist. Creating a new experiment.\n"
     ]
    },
    {
     "data": {
      "text/plain": [
       "<Experiment: artifact_location='mlflow-artifacts:/mlflow', creation_time=1693590804712, experiment_id='2', last_update_time=1693590804712, lifecycle_stage='active', name='My-First-Domino-Experiment-integration-test', tags={'domino.project': 'Experiments-demo',\n",
       " 'mlflow.domino.dataset_info': '64f21be40052b95920f5a5f2-64f21be40052b95920f5a5f1',\n",
       " 'mlflow.domino.environment_id': '64d271ec45c52f7868c5a168',\n",
       " 'mlflow.domino.environment_revision_id': '64d271ec45c52f7868c5a16c',\n",
       " 'mlflow.domino.hardware_tier': 'small-k8s',\n",
       " 'mlflow.domino.project': 'Experiments-demo',\n",
       " 'mlflow.domino.project_id': '64f21be30052b95920f5a5ec',\n",
       " 'mlflow.domino.project_name': 'Experiments-demo',\n",
       " 'mlflow.domino.run_id': '64f21c980052b95920f5a5fd',\n",
       " 'mlflow.domino.run_number': '1',\n",
       " 'mlflow.domino.user': 'integration-test',\n",
       " 'mlflow.domino.user_id': '64d28ec7aacd4f0ffd165755',\n",
       " 'mlflow.source.type': 'NOTEBOOK',\n",
       " 'mlflow.user': 'integration-test'}>"
      ]
     },
     "execution_count": 13,
     "metadata": {},
     "output_type": "execute_result"
    }
   ],
   "source": [
    "import mlflow\n",
    "\n",
    "# create a new experiment\n",
    "username = os.environ['DOMINO_STARTING_USERNAME']\n",
    "experiment_name = f\"My-First-Domino-Experiment-{username}\"\n",
    "\n",
    "mlflow.set_experiment(experiment_name=experiment_name)\n",
    "# Experiment names must be unique across all projects within the same Domino instance."
   ]
  },
  {
   "cell_type": "markdown",
   "id": "9ff23677-9dd5-4a9e-8e6c-95f05c5f7576",
   "metadata": {},
   "source": [
    "### 3. MLflow auto logging is the easiest way to log your experiments. With auto logging, MLflow logs the most critical parameters, metrics, and artifacts for you. ###"
   ]
  },
  {
   "cell_type": "code",
   "execution_count": 16,
   "id": "b2957b6f-cb86-48ae-a5be-e0f66e65ccc9",
   "metadata": {
    "tags": []
   },
   "outputs": [
    {
     "name": "stderr",
     "output_type": "stream",
     "text": [
      "2023/09/01 17:54:13 INFO mlflow.tracking.fluent: Autologging successfully enabled for sklearn.\n"
     ]
    }
   ],
   "source": [
    "# import MLflow library\n",
    "import mlflow\n",
    "\n",
    "from sklearn.model_selection import train_test_split\n",
    "from sklearn.datasets import load_diabetes\n",
    "from sklearn.ensemble import RandomForestRegressor\n",
    "\n",
    "# create and set a new experiment\n",
    "mlflow.set_experiment(experiment_name=experiment_name)\n",
    "\n",
    "# enable auto-logging\n",
    "mlflow.autolog()\n",
    "\n",
    "# start the run\n",
    "with mlflow.start_run():\n",
    "    db = load_diabetes()\n",
    "    X_train, X_test, y_train, y_test = train_test_split(db.data, db.target)\n",
    "    rf = RandomForestRegressor(n_estimators = 100, max_depth = 6, max_features = 3)\n",
    "    rf.fit(X_train, y_train)\n",
    "    rf.score(X_test, y_test)\n",
    "\n",
    "# end the run\n",
    "mlflow.end_run()"
   ]
  },
  {
   "cell_type": "markdown",
   "id": "d0b1ba2c-03bf-4cc1-a2f5-0052b8f251fe",
   "metadata": {},
   "source": [
    "### 4. You can also use MLFLow’s manual logging to specify custom logs. ###"
   ]
  },
  {
   "cell_type": "code",
   "execution_count": 17,
   "id": "4f9dabd1-d4a8-4eaa-99f1-06f9703e7833",
   "metadata": {
    "tags": []
   },
   "outputs": [],
   "source": [
    "# import MLflow library\n",
    "import mlflow\n",
    "\n",
    "# create a new experiment\n",
    "mlflow.set_experiment(experiment_name=experiment_name)\n",
    "\n",
    "# start a run and log parameter and metric\n",
    "with mlflow.start_run():\n",
    "    mlflow.log_param(\"batch_size\", 32)\n",
    "    mlflow.log_metric(\"accuracy\", 0.75)\n",
    "    \n",
    "# end the run\n",
    "mlflow.end_run()\n",
    "\n",
    "# You cannot stop a run from the UI. To stop a run, execute mlflow.end_run() from your workspace or job."
   ]
  }
 ],
 "metadata": {
  "kernelspec": {
   "display_name": "Python 3 (ipykernel)",
   "language": "python",
   "name": "python3"
  },
  "language_info": {
   "codemirror_mode": {
    "name": "ipython",
    "version": 3
   },
   "file_extension": ".py",
   "mimetype": "text/x-python",
   "name": "python",
   "nbconvert_exporter": "python",
   "pygments_lexer": "ipython3",
   "version": "3.9.16"
  }
 },
 "nbformat": 4,
 "nbformat_minor": 5
}
